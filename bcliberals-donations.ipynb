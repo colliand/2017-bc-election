{
 "cells": [
  {
   "cell_type": "markdown",
   "metadata": {},
   "source": [
    "## BC Liberal Party Donations in 2016-2017"
   ]
  },
  {
   "cell_type": "markdown",
   "metadata": {},
   "source": [
    "The BC Liberal Party [disclosed donations](https://www.bcliberals.com/realtime-disclosure/) received during the run-up to the 41st British Columbia general election held May 9, 2017. The data was shared in the form of PDF files containing donations during time intervals of varying length. In this format, the data is not presented for systematic analysis by computer.\n",
    "\n",
    "I munged the disclosed donations data (with the exception of `2017-Contributions-March-3-2017-Sheet1.pdf` due to a format mismatch) into CSV format and made the collection available as an [open Google docs spreadsheet](https://docs.google.com/spreadsheets/d/1K26qXaaKPaXV4FAmce9W7xX_lCy2RGfDSBO2lwRxfkA/edit?usp=sharing).\n",
    "\n",
    "This notebook explores the donations data and achieves the following objectives:\n",
    "\n",
    "* Plot Donations vs. Time. \n",
    "* List the top donors by accumulating across all disclosed transactions.\n",
    "* Identify all donors matching a `string`.\n",
    "\n",
    "There is one missing disclosure file (due to a format mismatch that I've "
   ]
  },
  {
   "cell_type": "markdown",
   "metadata": {},
   "source": [
    "## Set up some tools"
   ]
  },
  {
   "cell_type": "code",
   "execution_count": 1,
   "metadata": {
    "collapsed": true
   },
   "outputs": [],
   "source": [
    "import pandas as pd\n",
    "import numpy as np\n",
    "from datetime import *\n",
    "from dateutil.relativedelta import *\n",
    "import calendar\n",
    "from dateutil.rrule import *\n",
    "from dateutil.parser import *\n",
    "import matplotlib.pyplot as plt "
   ]
  },
  {
   "cell_type": "code",
   "execution_count": 2,
   "metadata": {
    "collapsed": true
   },
   "outputs": [],
   "source": [
    "from bokeh.plotting import figure, output_notebook, show\n",
    "from bokeh.charts import Bar\n",
    "from bokeh.models import DatetimeTickFormatter"
   ]
  },
  {
   "cell_type": "code",
   "execution_count": 3,
   "metadata": {},
   "outputs": [
    {
     "data": {
      "text/html": [
       "\n",
       "    <div class=\"bk-root\">\n",
       "        <a href=\"http://bokeh.pydata.org\" target=\"_blank\" class=\"bk-logo bk-logo-small bk-logo-notebook\"></a>\n",
       "        <span id=\"cef4cd8d-9eb4-4a91-b657-9224786dc7f9\">Loading BokehJS ...</span>\n",
       "    </div>"
      ]
     },
     "metadata": {},
     "output_type": "display_data"
    },
    {
     "data": {
      "application/javascript": [
       "\n",
       "(function(global) {\n",
       "  function now() {\n",
       "    return new Date();\n",
       "  }\n",
       "\n",
       "  var force = true;\n",
       "\n",
       "  if (typeof (window._bokeh_onload_callbacks) === \"undefined\" || force === true) {\n",
       "    window._bokeh_onload_callbacks = [];\n",
       "    window._bokeh_is_loading = undefined;\n",
       "  }\n",
       "\n",
       "\n",
       "  \n",
       "  if (typeof (window._bokeh_timeout) === \"undefined\" || force === true) {\n",
       "    window._bokeh_timeout = Date.now() + 5000;\n",
       "    window._bokeh_failed_load = false;\n",
       "  }\n",
       "\n",
       "  var NB_LOAD_WARNING = {'data': {'text/html':\n",
       "     \"<div style='background-color: #fdd'>\\n\"+\n",
       "     \"<p>\\n\"+\n",
       "     \"BokehJS does not appear to have successfully loaded. If loading BokehJS from CDN, this \\n\"+\n",
       "     \"may be due to a slow or bad network connection. Possible fixes:\\n\"+\n",
       "     \"</p>\\n\"+\n",
       "     \"<ul>\\n\"+\n",
       "     \"<li>re-rerun `output_notebook()` to attempt to load from CDN again, or</li>\\n\"+\n",
       "     \"<li>use INLINE resources instead, as so:</li>\\n\"+\n",
       "     \"</ul>\\n\"+\n",
       "     \"<code>\\n\"+\n",
       "     \"from bokeh.resources import INLINE\\n\"+\n",
       "     \"output_notebook(resources=INLINE)\\n\"+\n",
       "     \"</code>\\n\"+\n",
       "     \"</div>\"}};\n",
       "\n",
       "  function display_loaded() {\n",
       "    if (window.Bokeh !== undefined) {\n",
       "      document.getElementById(\"cef4cd8d-9eb4-4a91-b657-9224786dc7f9\").textContent = \"BokehJS successfully loaded.\";\n",
       "    } else if (Date.now() < window._bokeh_timeout) {\n",
       "      setTimeout(display_loaded, 100)\n",
       "    }\n",
       "  }\n",
       "\n",
       "  function run_callbacks() {\n",
       "    window._bokeh_onload_callbacks.forEach(function(callback) { callback() });\n",
       "    delete window._bokeh_onload_callbacks\n",
       "    console.info(\"Bokeh: all callbacks have finished\");\n",
       "  }\n",
       "\n",
       "  function load_libs(js_urls, callback) {\n",
       "    window._bokeh_onload_callbacks.push(callback);\n",
       "    if (window._bokeh_is_loading > 0) {\n",
       "      console.log(\"Bokeh: BokehJS is being loaded, scheduling callback at\", now());\n",
       "      return null;\n",
       "    }\n",
       "    if (js_urls == null || js_urls.length === 0) {\n",
       "      run_callbacks();\n",
       "      return null;\n",
       "    }\n",
       "    console.log(\"Bokeh: BokehJS not loaded, scheduling load and callback at\", now());\n",
       "    window._bokeh_is_loading = js_urls.length;\n",
       "    for (var i = 0; i < js_urls.length; i++) {\n",
       "      var url = js_urls[i];\n",
       "      var s = document.createElement('script');\n",
       "      s.src = url;\n",
       "      s.async = false;\n",
       "      s.onreadystatechange = s.onload = function() {\n",
       "        window._bokeh_is_loading--;\n",
       "        if (window._bokeh_is_loading === 0) {\n",
       "          console.log(\"Bokeh: all BokehJS libraries loaded\");\n",
       "          run_callbacks()\n",
       "        }\n",
       "      };\n",
       "      s.onerror = function() {\n",
       "        console.warn(\"failed to load library \" + url);\n",
       "      };\n",
       "      console.log(\"Bokeh: injecting script tag for BokehJS library: \", url);\n",
       "      document.getElementsByTagName(\"head\")[0].appendChild(s);\n",
       "    }\n",
       "  };var element = document.getElementById(\"cef4cd8d-9eb4-4a91-b657-9224786dc7f9\");\n",
       "  if (element == null) {\n",
       "    console.log(\"Bokeh: ERROR: autoload.js configured with elementid 'cef4cd8d-9eb4-4a91-b657-9224786dc7f9' but no matching script tag was found. \")\n",
       "    return false;\n",
       "  }\n",
       "\n",
       "  var js_urls = [\"https://cdn.pydata.org/bokeh/release/bokeh-0.12.4.min.js\", \"https://cdn.pydata.org/bokeh/release/bokeh-widgets-0.12.4.min.js\"];\n",
       "\n",
       "  var inline_js = [\n",
       "    function(Bokeh) {\n",
       "      Bokeh.set_log_level(\"info\");\n",
       "    },\n",
       "    \n",
       "    function(Bokeh) {\n",
       "      \n",
       "      document.getElementById(\"cef4cd8d-9eb4-4a91-b657-9224786dc7f9\").textContent = \"BokehJS is loading...\";\n",
       "    },\n",
       "    function(Bokeh) {\n",
       "      console.log(\"Bokeh: injecting CSS: https://cdn.pydata.org/bokeh/release/bokeh-0.12.4.min.css\");\n",
       "      Bokeh.embed.inject_css(\"https://cdn.pydata.org/bokeh/release/bokeh-0.12.4.min.css\");\n",
       "      console.log(\"Bokeh: injecting CSS: https://cdn.pydata.org/bokeh/release/bokeh-widgets-0.12.4.min.css\");\n",
       "      Bokeh.embed.inject_css(\"https://cdn.pydata.org/bokeh/release/bokeh-widgets-0.12.4.min.css\");\n",
       "    }\n",
       "  ];\n",
       "\n",
       "  function run_inline_js() {\n",
       "    \n",
       "    if ((window.Bokeh !== undefined) || (force === true)) {\n",
       "      for (var i = 0; i < inline_js.length; i++) {\n",
       "        inline_js[i](window.Bokeh);\n",
       "      }if (force === true) {\n",
       "        display_loaded();\n",
       "      }} else if (Date.now() < window._bokeh_timeout) {\n",
       "      setTimeout(run_inline_js, 100);\n",
       "    } else if (!window._bokeh_failed_load) {\n",
       "      console.log(\"Bokeh: BokehJS failed to load within specified timeout.\");\n",
       "      window._bokeh_failed_load = true;\n",
       "    } else if (force !== true) {\n",
       "      var cell = $(document.getElementById(\"cef4cd8d-9eb4-4a91-b657-9224786dc7f9\")).parents('.cell').data().cell;\n",
       "      cell.output_area.append_execute_result(NB_LOAD_WARNING)\n",
       "    }\n",
       "\n",
       "  }\n",
       "\n",
       "  if (window._bokeh_is_loading === 0) {\n",
       "    console.log(\"Bokeh: BokehJS loaded, going straight to plotting\");\n",
       "    run_inline_js();\n",
       "  } else {\n",
       "    load_libs(js_urls, function() {\n",
       "      console.log(\"Bokeh: BokehJS plotting callback run at\", now());\n",
       "      run_inline_js();\n",
       "    });\n",
       "  }\n",
       "}(this));"
      ]
     },
     "metadata": {},
     "output_type": "display_data"
    }
   ],
   "source": [
    "output_notebook()"
   ]
  },
  {
   "cell_type": "code",
   "execution_count": 4,
   "metadata": {
    "collapsed": true
   },
   "outputs": [],
   "source": [
    "%matplotlib inline"
   ]
  },
  {
   "cell_type": "markdown",
   "metadata": {},
   "source": [
    "Source data: \n",
    "https://docs.google.com/spreadsheets/d/1K26qXaaKPaXV4FAmce9W7xX_lCy2RGfDSBO2lwRxfkA/edit?usp=sharing"
   ]
  },
  {
   "cell_type": "markdown",
   "metadata": {},
   "source": [
    "## Import the data"
   ]
  },
  {
   "cell_type": "code",
   "execution_count": 5,
   "metadata": {
    "collapsed": true
   },
   "outputs": [],
   "source": [
    "## Import multisheet Google doc in as an Excel file.\n",
    "xl = pd.ExcelFile('https://docs.google.com/spreadsheets/d/1K26qXaaKPaXV4FAmce9W7xX_lCy2RGfDSBO2lwRxfkA/export?format=xlsx&id', \n",
    "                )"
   ]
  },
  {
   "cell_type": "code",
   "execution_count": 6,
   "metadata": {},
   "outputs": [
    {
     "data": {
      "text/plain": [
       "<pandas.io.excel.ExcelFile at 0x7f9cae523dd8>"
      ]
     },
     "execution_count": 6,
     "metadata": {},
     "output_type": "execute_result"
    }
   ],
   "source": [
    "xl"
   ]
  },
  {
   "cell_type": "code",
   "execution_count": 7,
   "metadata": {},
   "outputs": [
    {
     "data": {
      "text/plain": [
       "['Copy-of-2016-Contributions-v4',\n",
       " '2017-Contributions-June-2',\n",
       " '2017-Contributions-May-26-2017',\n",
       " '2017-Contributions-May-19',\n",
       " '2017-Contributions-May-12',\n",
       " '2017-Contributions-May-5',\n",
       " '2017-Contributions-April-28-201',\n",
       " '2017-Contributions-April-21',\n",
       " '2017-Contributions-April-14',\n",
       " '2017-Contributions-April-7',\n",
       " '2017-Contributions-March-31-201',\n",
       " '2017-Contributions-March-23',\n",
       " '2017-Contributions-—-March-17-2',\n",
       " '2017-Contributions-March-10',\n",
       " '2017-Contributions-March-3-2017',\n",
       " '2017-Contributions-_-February-2',\n",
       " '2017-Contributions-February-17',\n",
       " 'Copy-of-2017-Contributions-Janu',\n",
       " 'Sheet1',\n",
       " '2017-Contributions-—-February-3',\n",
       " '2017-Contributions-—-February-1',\n",
       " 'Real-Time-Donations-Jan-25V3']"
      ]
     },
     "execution_count": 7,
     "metadata": {},
     "output_type": "execute_result"
    }
   ],
   "source": [
    "## List the names of the sheets in the imported Excel file.\n",
    "## The sheet names correspond to the filenames used to label the disclosed files.\n",
    "xl.sheet_names"
   ]
  },
  {
   "cell_type": "code",
   "execution_count": 8,
   "metadata": {
    "collapsed": true
   },
   "outputs": [],
   "source": [
    "## Make a dictionary of Pandas Dataframes for each sheet\n",
    "dict = pd.ExcelFile.parse(xl, sheetname=None)"
   ]
  },
  {
   "cell_type": "code",
   "execution_count": 9,
   "metadata": {
    "collapsed": true
   },
   "outputs": [],
   "source": [
    "## Merge the data frames in the dictionary into a single large data frame.\n",
    "## The `df` file contains the list of disclosed BC Liberal Party data in the form of a Pandas Dataframe.\n",
    "df = pd.concat(dict)"
   ]
  },
  {
   "cell_type": "code",
   "execution_count": 10,
   "metadata": {},
   "outputs": [
    {
     "data": {
      "text/html": [
       "<div>\n",
       "<table border=\"1\" class=\"dataframe\">\n",
       "  <thead>\n",
       "    <tr style=\"text-align: right;\">\n",
       "      <th></th>\n",
       "      <th>Amount</th>\n",
       "    </tr>\n",
       "  </thead>\n",
       "  <tbody>\n",
       "    <tr>\n",
       "      <th>count</th>\n",
       "      <td>28354.000000</td>\n",
       "    </tr>\n",
       "    <tr>\n",
       "      <th>mean</th>\n",
       "      <td>647.230235</td>\n",
       "    </tr>\n",
       "    <tr>\n",
       "      <th>std</th>\n",
       "      <td>2316.471340</td>\n",
       "    </tr>\n",
       "    <tr>\n",
       "      <th>min</th>\n",
       "      <td>0.000000</td>\n",
       "    </tr>\n",
       "    <tr>\n",
       "      <th>25%</th>\n",
       "      <td>50.000000</td>\n",
       "    </tr>\n",
       "    <tr>\n",
       "      <th>50%</th>\n",
       "      <td>100.000000</td>\n",
       "    </tr>\n",
       "    <tr>\n",
       "      <th>75%</th>\n",
       "      <td>300.000000</td>\n",
       "    </tr>\n",
       "    <tr>\n",
       "      <th>max</th>\n",
       "      <td>85000.000000</td>\n",
       "    </tr>\n",
       "  </tbody>\n",
       "</table>\n",
       "</div>"
      ],
      "text/plain": [
       "             Amount\n",
       "count  28354.000000\n",
       "mean     647.230235\n",
       "std     2316.471340\n",
       "min        0.000000\n",
       "25%       50.000000\n",
       "50%      100.000000\n",
       "75%      300.000000\n",
       "max    85000.000000"
      ]
     },
     "execution_count": 10,
     "metadata": {},
     "output_type": "execute_result"
    }
   ],
   "source": [
    "## List descriptive statistics of the collection of all donations.\n",
    "df.describe()"
   ]
  },
  {
   "cell_type": "code",
   "execution_count": 11,
   "metadata": {},
   "outputs": [
    {
     "data": {
      "text/plain": [
       "15130"
      ]
     },
     "execution_count": 11,
     "metadata": {},
     "output_type": "execute_result"
    }
   ],
   "source": [
    "## Number of unique Donor Names\n",
    "len(df['Donor Name'].unique())"
   ]
  },
  {
   "cell_type": "markdown",
   "metadata": {},
   "source": [
    "There were 28,534 donation transactions reported. The `mean` donation is \\$647.3 with a maximum single donation of \\$85,000."
   ]
  },
  {
   "cell_type": "code",
   "execution_count": 12,
   "metadata": {},
   "outputs": [
    {
     "data": {
      "text/plain": [
       "18351566.09"
      ]
     },
     "execution_count": 12,
     "metadata": {},
     "output_type": "execute_result"
    }
   ],
   "source": [
    "## Calculate total amount donated.\n",
    "df['Amount'].sum()"
   ]
  },
  {
   "cell_type": "markdown",
   "metadata": {},
   "source": [
    "### Donation Total: \\$18,351,566.09."
   ]
  },
  {
   "cell_type": "markdown",
   "metadata": {},
   "source": [
    "## Analyze donations vs. time"
   ]
  },
  {
   "cell_type": "code",
   "execution_count": 13,
   "metadata": {
    "collapsed": true
   },
   "outputs": [],
   "source": [
    "## Convert Date to a better Format for ordering\n",
    "df['datetime'] = pd.to_datetime(df['Date'])"
   ]
  },
  {
   "cell_type": "code",
   "execution_count": 14,
   "metadata": {},
   "outputs": [
    {
     "data": {
      "text/plain": [
       "<matplotlib.axes._subplots.AxesSubplot at 0x7f9cae2042e8>"
      ]
     },
     "execution_count": 14,
     "metadata": {},
     "output_type": "execute_result"
    },
    {
     "data": {
      "image/png": "[encoded data removed]",
      "text/plain": [
       "<matplotlib.figure.Figure at 0x7f9cae2691d0>"
      ]
     },
     "metadata": {},
     "output_type": "display_data"
    }
   ],
   "source": [
    "## Plot donations vs. time\n",
    "df.sort_values(by='datetime').plot(x='datetime',y=\"Amount\", style =\"x\")"
   ]
  },
  {
   "cell_type": "code",
   "execution_count": 15,
   "metadata": {
    "collapsed": true
   },
   "outputs": [],
   "source": [
    "## Accumulate donations vs. time starting from oldest donation\n",
    "df['cumsum'] = df.sort_values(by='datetime')['Amount'].cumsum()"
   ]
  },
  {
   "cell_type": "code",
   "execution_count": 16,
   "metadata": {},
   "outputs": [
    {
     "data": {
      "text/plain": [
       "<matplotlib.axes._subplots.AxesSubplot at 0x7f9caccddef0>"
      ]
     },
     "execution_count": 16,
     "metadata": {},
     "output_type": "execute_result"
    },
    {
     "data": {
      "image/png": "[encoded data removed]",
      "text/plain": [
       "<matplotlib.figure.Figure at 0x7f9caccc7f60>"
      ]
     },
     "metadata": {},
     "output_type": "display_data"
    }
   ],
   "source": [
    "## Accumulated Donations vs. Time\n",
    "df.plot(x='datetime',y='cumsum')"
   ]
  },
  {
   "cell_type": "markdown",
   "metadata": {},
   "source": [
    "## Analyze donations based on size"
   ]
  },
  {
   "cell_type": "code",
   "execution_count": 17,
   "metadata": {
    "collapsed": true
   },
   "outputs": [],
   "source": [
    "## Restrict attention to donations exceeding a threshold amount\n",
    "big = df.loc[df['Amount'] > 25000]"
   ]
  },
  {
   "cell_type": "code",
   "execution_count": 18,
   "metadata": {},
   "outputs": [
    {
     "data": {
      "text/plain": [
       "0.07845379478455182"
      ]
     },
     "execution_count": 18,
     "metadata": {},
     "output_type": "execute_result"
    }
   ],
   "source": [
    "## Big Donations as a fraction of total donations\n",
    "big['Amount'].sum()/df['Amount'].sum()"
   ]
  },
  {
   "cell_type": "markdown",
   "metadata": {},
   "source": [
    "## Identify donations based on a `string` in 'Donor Name'"
   ]
  },
  {
   "cell_type": "code",
   "execution_count": 19,
   "metadata": {
    "collapsed": true
   },
   "outputs": [],
   "source": [
    "def df_filter(name):\n",
    "    return df.loc[df['Donor Name'].str.contains(name)].sort_values(by='datetime')"
   ]
  },
  {
   "cell_type": "code",
   "execution_count": 20,
   "metadata": {},
   "outputs": [
    {
     "data": {
      "text/html": [
       "<div>\n",
       "<table border=\"1\" class=\"dataframe\">\n",
       "  <thead>\n",
       "    <tr style=\"text-align: right;\">\n",
       "      <th></th>\n",
       "      <th></th>\n",
       "      <th>Donor Name</th>\n",
       "      <th>Amount</th>\n",
       "      <th>Date</th>\n",
       "      <th>datetime</th>\n",
       "      <th>cumsum</th>\n",
       "    </tr>\n",
       "  </thead>\n",
       "  <tbody>\n",
       "    <tr>\n",
       "      <th rowspan=\"9\" valign=\"top\">Copy-of-2016-Contributions-v4</th>\n",
       "      <th>1166</th>\n",
       "      <td>Belkorp Environmental Services Inc.</td>\n",
       "      <td>5000.0</td>\n",
       "      <td>2016-02-26 00:00:00</td>\n",
       "      <td>2016-02-26</td>\n",
       "      <td>1086150.44</td>\n",
       "    </tr>\n",
       "    <tr>\n",
       "      <th>1172</th>\n",
       "      <td>Belkorp Industries Inc</td>\n",
       "      <td>5000.0</td>\n",
       "      <td>2016-03-06 00:00:00</td>\n",
       "      <td>2016-03-06</td>\n",
       "      <td>1557977.44</td>\n",
       "    </tr>\n",
       "    <tr>\n",
       "      <th>21</th>\n",
       "      <td>338446 B.C. Ltd DBA Belkorp Industries</td>\n",
       "      <td>10000.0</td>\n",
       "      <td>2016-04-15 00:00:00</td>\n",
       "      <td>2016-04-15</td>\n",
       "      <td>2926693.44</td>\n",
       "    </tr>\n",
       "    <tr>\n",
       "      <th>1168</th>\n",
       "      <td>Belkorp Environmental Services Inc.</td>\n",
       "      <td>1200.0</td>\n",
       "      <td>2016-04-22 00:00:00</td>\n",
       "      <td>2016-04-22</td>\n",
       "      <td>3318585.44</td>\n",
       "    </tr>\n",
       "    <tr>\n",
       "      <th>1169</th>\n",
       "      <td>Belkorp Environmental Services Inc.</td>\n",
       "      <td>7500.0</td>\n",
       "      <td>2016-05-13 00:00:00</td>\n",
       "      <td>2016-05-13</td>\n",
       "      <td>3867485.44</td>\n",
       "    </tr>\n",
       "    <tr>\n",
       "      <th>1170</th>\n",
       "      <td>Belkorp Environmental Services Inc.</td>\n",
       "      <td>4000.0</td>\n",
       "      <td>2016-07-13 00:00:00</td>\n",
       "      <td>2016-07-13</td>\n",
       "      <td>5621097.88</td>\n",
       "    </tr>\n",
       "    <tr>\n",
       "      <th>1167</th>\n",
       "      <td>Belkorp Environmental Services Inc.</td>\n",
       "      <td>1000.0</td>\n",
       "      <td>2016-08-04 00:00:00</td>\n",
       "      <td>2016-08-04</td>\n",
       "      <td>6060415.38</td>\n",
       "    </tr>\n",
       "    <tr>\n",
       "      <th>1171</th>\n",
       "      <td>Belkorp Industries Inc</td>\n",
       "      <td>7500.0</td>\n",
       "      <td>2016-11-03 00:00:00</td>\n",
       "      <td>2016-11-03</td>\n",
       "      <td>8026209.96</td>\n",
       "    </tr>\n",
       "    <tr>\n",
       "      <th>1165</th>\n",
       "      <td>Belkorp Environmental Services Inc.</td>\n",
       "      <td>2500.0</td>\n",
       "      <td>2016-12-02 00:00:00</td>\n",
       "      <td>2016-12-02</td>\n",
       "      <td>9102282.66</td>\n",
       "    </tr>\n",
       "    <tr>\n",
       "      <th rowspan=\"2\" valign=\"top\">2017-Contributions-March-31-201</th>\n",
       "      <th>128</th>\n",
       "      <td>Belkorp Capital Inc.</td>\n",
       "      <td>7500.0</td>\n",
       "      <td>2017-03-25 00:00:00</td>\n",
       "      <td>2017-03-25</td>\n",
       "      <td>12272503.51</td>\n",
       "    </tr>\n",
       "    <tr>\n",
       "      <th>129</th>\n",
       "      <td>Belkorp Industries Inc</td>\n",
       "      <td>5000.0</td>\n",
       "      <td>2017-03-25 00:00:00</td>\n",
       "      <td>2017-03-25</td>\n",
       "      <td>12265003.51</td>\n",
       "    </tr>\n",
       "    <tr>\n",
       "      <th>2017-Contributions-May-5</th>\n",
       "      <th>106</th>\n",
       "      <td>Belkorp Environmental Services Inc.</td>\n",
       "      <td>1000.0</td>\n",
       "      <td>2017-04-28 00:00:00</td>\n",
       "      <td>2017-04-28</td>\n",
       "      <td>15026729.56</td>\n",
       "    </tr>\n",
       "    <tr>\n",
       "      <th>2017-Contributions-May-12</th>\n",
       "      <th>56</th>\n",
       "      <td>Belkorp Industries Inc</td>\n",
       "      <td>12500.0</td>\n",
       "      <td>2017-05-06 00:00:00</td>\n",
       "      <td>2017-05-06</td>\n",
       "      <td>16496873.19</td>\n",
       "    </tr>\n",
       "  </tbody>\n",
       "</table>\n",
       "</div>"
      ],
      "text/plain": [
       "                                                                  Donor Name  \\\n",
       "Copy-of-2016-Contributions-v4   1166     Belkorp Environmental Services Inc.   \n",
       "                                1172                  Belkorp Industries Inc   \n",
       "                                21    338446 B.C. Ltd DBA Belkorp Industries   \n",
       "                                1168     Belkorp Environmental Services Inc.   \n",
       "                                1169     Belkorp Environmental Services Inc.   \n",
       "                                1170     Belkorp Environmental Services Inc.   \n",
       "                                1167     Belkorp Environmental Services Inc.   \n",
       "                                1171                  Belkorp Industries Inc   \n",
       "                                1165     Belkorp Environmental Services Inc.   \n",
       "2017-Contributions-March-31-201 128                     Belkorp Capital Inc.   \n",
       "                                129                   Belkorp Industries Inc   \n",
       "2017-Contributions-May-5        106      Belkorp Environmental Services Inc.   \n",
       "2017-Contributions-May-12       56                    Belkorp Industries Inc   \n",
       "\n",
       "                                       Amount                 Date   datetime  \\\n",
       "Copy-of-2016-Contributions-v4   1166   5000.0  2016-02-26 00:00:00 2016-02-26   \n",
       "                                1172   5000.0  2016-03-06 00:00:00 2016-03-06   \n",
       "                                21    10000.0  2016-04-15 00:00:00 2016-04-15   \n",
       "                                1168   1200.0  2016-04-22 00:00:00 2016-04-22   \n",
       "                                1169   7500.0  2016-05-13 00:00:00 2016-05-13   \n",
       "                                1170   4000.0  2016-07-13 00:00:00 2016-07-13   \n",
       "                                1167   1000.0  2016-08-04 00:00:00 2016-08-04   \n",
       "                                1171   7500.0  2016-11-03 00:00:00 2016-11-03   \n",
       "                                1165   2500.0  2016-12-02 00:00:00 2016-12-02   \n",
       "2017-Contributions-March-31-201 128    7500.0  2017-03-25 00:00:00 2017-03-25   \n",
       "                                129    5000.0  2017-03-25 00:00:00 2017-03-25   \n",
       "2017-Contributions-May-5        106    1000.0  2017-04-28 00:00:00 2017-04-28   \n",
       "2017-Contributions-May-12       56    12500.0  2017-05-06 00:00:00 2017-05-06   \n",
       "\n",
       "                                           cumsum  \n",
       "Copy-of-2016-Contributions-v4   1166   1086150.44  \n",
       "                                1172   1557977.44  \n",
       "                                21     2926693.44  \n",
       "                                1168   3318585.44  \n",
       "                                1169   3867485.44  \n",
       "                                1170   5621097.88  \n",
       "                                1167   6060415.38  \n",
       "                                1171   8026209.96  \n",
       "                                1165   9102282.66  \n",
       "2017-Contributions-March-31-201 128   12272503.51  \n",
       "                                129   12265003.51  \n",
       "2017-Contributions-May-5        106   15026729.56  \n",
       "2017-Contributions-May-12       56    16496873.19  "
      ]
     },
     "execution_count": 20,
     "metadata": {},
     "output_type": "execute_result"
    }
   ],
   "source": [
    "## Donations containing `Belk` ordered in time\n",
    "df_filter('Belk')"
   ]
  },
  {
   "cell_type": "code",
   "execution_count": 21,
   "metadata": {},
   "outputs": [
    {
     "data": {
      "text/plain": [
       "69700.0"
      ]
     },
     "execution_count": 21,
     "metadata": {},
     "output_type": "execute_result"
    }
   ],
   "source": [
    "df_filter('Belk')['Amount'].sum()"
   ]
  },
  {
   "cell_type": "code",
   "execution_count": 22,
   "metadata": {},
   "outputs": [
    {
     "data": {
      "text/plain": [
       "<matplotlib.axes._subplots.AxesSubplot at 0x7f9ca6ce2160>"
      ]
     },
     "execution_count": 22,
     "metadata": {},
     "output_type": "execute_result"
    },
    {
     "data": {
      "image/png": "[encoded data removed]",
      "text/plain": [
       "<matplotlib.figure.Figure at 0x7f9ca6cdecc0>"
      ]
     },
     "metadata": {},
     "output_type": "display_data"
    }
   ],
   "source": [
    "df_filter('Belk').plot(x='datetime',y=\"Amount\", kind='bar')"
   ]
  },
  {
   "cell_type": "code",
   "execution_count": 23,
   "metadata": {},
   "outputs": [
    {
     "data": {
      "text/plain": [
       "1000.0"
      ]
     },
     "execution_count": 23,
     "metadata": {},
     "output_type": "execute_result"
    }
   ],
   "source": [
    "df_filter('Lindsay Gordon')['Amount'].sum()"
   ]
  },
  {
   "cell_type": "code",
   "execution_count": 24,
   "metadata": {},
   "outputs": [
    {
     "data": {
      "text/html": [
       "<div>\n",
       "<table border=\"1\" class=\"dataframe\">\n",
       "  <thead>\n",
       "    <tr style=\"text-align: right;\">\n",
       "      <th></th>\n",
       "      <th></th>\n",
       "      <th>Donor Name</th>\n",
       "      <th>Amount</th>\n",
       "      <th>Date</th>\n",
       "      <th>datetime</th>\n",
       "      <th>cumsum</th>\n",
       "    </tr>\n",
       "  </thead>\n",
       "  <tbody>\n",
       "    <tr>\n",
       "      <th rowspan=\"5\" valign=\"top\">Copy-of-2016-Contributions-v4</th>\n",
       "      <th>13558</th>\n",
       "      <td>Seaspan ULC</td>\n",
       "      <td>1000.0</td>\n",
       "      <td>2016-01-31 00:00:00</td>\n",
       "      <td>2016-01-31</td>\n",
       "      <td>566212.09</td>\n",
       "    </tr>\n",
       "    <tr>\n",
       "      <th>13559</th>\n",
       "      <td>Seaspan ULC 1</td>\n",
       "      <td>0.0</td>\n",
       "      <td>2016-02-26 00:00:00</td>\n",
       "      <td>2016-02-26</td>\n",
       "      <td>895180.44</td>\n",
       "    </tr>\n",
       "    <tr>\n",
       "      <th>13560</th>\n",
       "      <td>Seaspan ULC</td>\n",
       "      <td>5000.0</td>\n",
       "      <td>2016-03-31 00:00:00</td>\n",
       "      <td>2016-03-31</td>\n",
       "      <td>2162828.44</td>\n",
       "    </tr>\n",
       "    <tr>\n",
       "      <th>13557</th>\n",
       "      <td>Seaspan International Ltd</td>\n",
       "      <td>15000.0</td>\n",
       "      <td>2016-05-13 00:00:00</td>\n",
       "      <td>2016-05-13</td>\n",
       "      <td>4015137.11</td>\n",
       "    </tr>\n",
       "    <tr>\n",
       "      <th>13561</th>\n",
       "      <td>Seaspan ULC</td>\n",
       "      <td>1050.0</td>\n",
       "      <td>2016-06-17 00:00:00</td>\n",
       "      <td>2016-06-17</td>\n",
       "      <td>4944527.45</td>\n",
       "    </tr>\n",
       "    <tr>\n",
       "      <th>2017-Contributions-March-31-201</th>\n",
       "      <th>1540</th>\n",
       "      <td>Seaspan ULC</td>\n",
       "      <td>1000.0</td>\n",
       "      <td>2017-03-25 00:00:00</td>\n",
       "      <td>2017-03-25</td>\n",
       "      <td>11948645.18</td>\n",
       "    </tr>\n",
       "    <tr>\n",
       "      <th>2017-Contributions-April-21</th>\n",
       "      <th>1130</th>\n",
       "      <td>Seaspan ULC</td>\n",
       "      <td>1000.0</td>\n",
       "      <td>2017-04-14 00:00:00</td>\n",
       "      <td>2017-04-14</td>\n",
       "      <td>14117743.04</td>\n",
       "    </tr>\n",
       "    <tr>\n",
       "      <th>2017-Contributions-May-19</th>\n",
       "      <th>392</th>\n",
       "      <td>Seaspan ULC</td>\n",
       "      <td>15000.0</td>\n",
       "      <td>2017-05-12 00:00:00</td>\n",
       "      <td>2017-05-12</td>\n",
       "      <td>17112870.69</td>\n",
       "    </tr>\n",
       "  </tbody>\n",
       "</table>\n",
       "</div>"
      ],
      "text/plain": [
       "                                                      Donor Name   Amount  \\\n",
       "Copy-of-2016-Contributions-v4   13558                Seaspan ULC   1000.0   \n",
       "                                13559              Seaspan ULC 1      0.0   \n",
       "                                13560                Seaspan ULC   5000.0   \n",
       "                                13557  Seaspan International Ltd  15000.0   \n",
       "                                13561                Seaspan ULC   1050.0   \n",
       "2017-Contributions-March-31-201 1540                 Seaspan ULC   1000.0   \n",
       "2017-Contributions-April-21     1130                 Seaspan ULC   1000.0   \n",
       "2017-Contributions-May-19       392                  Seaspan ULC  15000.0   \n",
       "\n",
       "                                                      Date   datetime  \\\n",
       "Copy-of-2016-Contributions-v4   13558  2016-01-31 00:00:00 2016-01-31   \n",
       "                                13559  2016-02-26 00:00:00 2016-02-26   \n",
       "                                13560  2016-03-31 00:00:00 2016-03-31   \n",
       "                                13557  2016-05-13 00:00:00 2016-05-13   \n",
       "                                13561  2016-06-17 00:00:00 2016-06-17   \n",
       "2017-Contributions-March-31-201 1540   2017-03-25 00:00:00 2017-03-25   \n",
       "2017-Contributions-April-21     1130   2017-04-14 00:00:00 2017-04-14   \n",
       "2017-Contributions-May-19       392    2017-05-12 00:00:00 2017-05-12   \n",
       "\n",
       "                                            cumsum  \n",
       "Copy-of-2016-Contributions-v4   13558    566212.09  \n",
       "                                13559    895180.44  \n",
       "                                13560   2162828.44  \n",
       "                                13557   4015137.11  \n",
       "                                13561   4944527.45  \n",
       "2017-Contributions-March-31-201 1540   11948645.18  \n",
       "2017-Contributions-April-21     1130   14117743.04  \n",
       "2017-Contributions-May-19       392    17112870.69  "
      ]
     },
     "execution_count": 24,
     "metadata": {},
     "output_type": "execute_result"
    }
   ],
   "source": [
    "df_filter('Seaspan')"
   ]
  },
  {
   "cell_type": "code",
   "execution_count": 25,
   "metadata": {},
   "outputs": [
    {
     "data": {
      "text/html": [
       "<div>\n",
       "<table border=\"1\" class=\"dataframe\">\n",
       "  <thead>\n",
       "    <tr style=\"text-align: right;\">\n",
       "      <th></th>\n",
       "      <th></th>\n",
       "      <th>Donor Name</th>\n",
       "      <th>Amount</th>\n",
       "      <th>Date</th>\n",
       "      <th>datetime</th>\n",
       "      <th>cumsum</th>\n",
       "    </tr>\n",
       "  </thead>\n",
       "  <tbody>\n",
       "    <tr>\n",
       "      <th rowspan=\"4\" valign=\"top\">Copy-of-2016-Contributions-v4</th>\n",
       "      <th>12056</th>\n",
       "      <td>Polygon Homes Ltd</td>\n",
       "      <td>500.0</td>\n",
       "      <td>2016-01-29 00:00:00</td>\n",
       "      <td>2016-01-29</td>\n",
       "      <td>442063.09</td>\n",
       "    </tr>\n",
       "    <tr>\n",
       "      <th>12057</th>\n",
       "      <td>Polygon Homes Ltd</td>\n",
       "      <td>15000.0</td>\n",
       "      <td>2016-04-15 00:00:00</td>\n",
       "      <td>2016-04-15</td>\n",
       "      <td>3120368.44</td>\n",
       "    </tr>\n",
       "    <tr>\n",
       "      <th>12058</th>\n",
       "      <td>Polygon Homes Ltd</td>\n",
       "      <td>10000.0</td>\n",
       "      <td>2016-05-13 00:00:00</td>\n",
       "      <td>2016-05-13</td>\n",
       "      <td>3800585.44</td>\n",
       "    </tr>\n",
       "    <tr>\n",
       "      <th>12059</th>\n",
       "      <td>Polygon Homes Ltd</td>\n",
       "      <td>1500.0</td>\n",
       "      <td>2016-11-15 00:00:00</td>\n",
       "      <td>2016-11-15</td>\n",
       "      <td>8404970.96</td>\n",
       "    </tr>\n",
       "    <tr>\n",
       "      <th>2017-Contributions-March-31-201</th>\n",
       "      <th>1360</th>\n",
       "      <td>Polygon Homes Ltd</td>\n",
       "      <td>40000.0</td>\n",
       "      <td>2017-03-25 00:00:00</td>\n",
       "      <td>2017-03-25</td>\n",
       "      <td>12330603.51</td>\n",
       "    </tr>\n",
       "    <tr>\n",
       "      <th>2017-Contributions-May-12</th>\n",
       "      <th>452</th>\n",
       "      <td>Polygon Homes Ltd</td>\n",
       "      <td>10000.0</td>\n",
       "      <td>2017-05-05 00:00:00</td>\n",
       "      <td>2017-05-05</td>\n",
       "      <td>15960166.86</td>\n",
       "    </tr>\n",
       "  </tbody>\n",
       "</table>\n",
       "</div>"
      ],
      "text/plain": [
       "                                              Donor Name   Amount  \\\n",
       "Copy-of-2016-Contributions-v4   12056  Polygon Homes Ltd    500.0   \n",
       "                                12057  Polygon Homes Ltd  15000.0   \n",
       "                                12058  Polygon Homes Ltd  10000.0   \n",
       "                                12059  Polygon Homes Ltd   1500.0   \n",
       "2017-Contributions-March-31-201 1360   Polygon Homes Ltd  40000.0   \n",
       "2017-Contributions-May-12       452    Polygon Homes Ltd  10000.0   \n",
       "\n",
       "                                                      Date   datetime  \\\n",
       "Copy-of-2016-Contributions-v4   12056  2016-01-29 00:00:00 2016-01-29   \n",
       "                                12057  2016-04-15 00:00:00 2016-04-15   \n",
       "                                12058  2016-05-13 00:00:00 2016-05-13   \n",
       "                                12059  2016-11-15 00:00:00 2016-11-15   \n",
       "2017-Contributions-March-31-201 1360   2017-03-25 00:00:00 2017-03-25   \n",
       "2017-Contributions-May-12       452    2017-05-05 00:00:00 2017-05-05   \n",
       "\n",
       "                                            cumsum  \n",
       "Copy-of-2016-Contributions-v4   12056    442063.09  \n",
       "                                12057   3120368.44  \n",
       "                                12058   3800585.44  \n",
       "                                12059   8404970.96  \n",
       "2017-Contributions-March-31-201 1360   12330603.51  \n",
       "2017-Contributions-May-12       452    15960166.86  "
      ]
     },
     "execution_count": 25,
     "metadata": {},
     "output_type": "execute_result"
    }
   ],
   "source": [
    "df_filter('Polygon')"
   ]
  },
  {
   "cell_type": "code",
   "execution_count": 26,
   "metadata": {},
   "outputs": [
    {
     "data": {
      "text/html": [
       "<div>\n",
       "<table border=\"1\" class=\"dataframe\">\n",
       "  <thead>\n",
       "    <tr style=\"text-align: right;\">\n",
       "      <th></th>\n",
       "      <th></th>\n",
       "      <th>Donor Name</th>\n",
       "      <th>Amount</th>\n",
       "      <th>Date</th>\n",
       "      <th>datetime</th>\n",
       "      <th>cumsum</th>\n",
       "    </tr>\n",
       "  </thead>\n",
       "  <tbody>\n",
       "    <tr>\n",
       "      <th rowspan=\"20\" valign=\"top\">Copy-of-2016-Contributions-v4</th>\n",
       "      <th>11088</th>\n",
       "      <td>New Car Dealers Association of BC</td>\n",
       "      <td>6000.0</td>\n",
       "      <td>2016-01-15 00:00:00</td>\n",
       "      <td>2016-01-15</td>\n",
       "      <td>369172.79</td>\n",
       "    </tr>\n",
       "    <tr>\n",
       "      <th>11089</th>\n",
       "      <td>New Car Dealers Association of BC</td>\n",
       "      <td>8500.0</td>\n",
       "      <td>2016-01-22 00:00:00</td>\n",
       "      <td>2016-01-22</td>\n",
       "      <td>385972.79</td>\n",
       "    </tr>\n",
       "    <tr>\n",
       "      <th>11090</th>\n",
       "      <td>New Car Dealers Association of BC</td>\n",
       "      <td>500.0</td>\n",
       "      <td>2016-01-31 00:00:00</td>\n",
       "      <td>2016-01-31</td>\n",
       "      <td>537942.09</td>\n",
       "    </tr>\n",
       "    <tr>\n",
       "      <th>11092</th>\n",
       "      <td>New Car Dealers Association of BC</td>\n",
       "      <td>2000.0</td>\n",
       "      <td>2016-02-29 00:00:00</td>\n",
       "      <td>2016-02-29</td>\n",
       "      <td>1407770.44</td>\n",
       "    </tr>\n",
       "    <tr>\n",
       "      <th>11100</th>\n",
       "      <td>New Car Dealers Association of BC</td>\n",
       "      <td>1500.0</td>\n",
       "      <td>2016-03-06 00:00:00</td>\n",
       "      <td>2016-03-06</td>\n",
       "      <td>1802089.44</td>\n",
       "    </tr>\n",
       "    <tr>\n",
       "      <th>11106</th>\n",
       "      <td>New Car Dealers Association of BC</td>\n",
       "      <td>8500.0</td>\n",
       "      <td>2016-03-11 00:00:00</td>\n",
       "      <td>2016-03-11</td>\n",
       "      <td>1903709.44</td>\n",
       "    </tr>\n",
       "    <tr>\n",
       "      <th>11093</th>\n",
       "      <td>New Car Dealers Association of BC</td>\n",
       "      <td>5000.0</td>\n",
       "      <td>2016-03-24 00:00:00</td>\n",
       "      <td>2016-03-24</td>\n",
       "      <td>2076775.44</td>\n",
       "    </tr>\n",
       "    <tr>\n",
       "      <th>11094</th>\n",
       "      <td>New Car Dealers Association of BC</td>\n",
       "      <td>10000.0</td>\n",
       "      <td>2016-03-31 00:00:00</td>\n",
       "      <td>2016-03-31</td>\n",
       "      <td>2333821.44</td>\n",
       "    </tr>\n",
       "    <tr>\n",
       "      <th>11102</th>\n",
       "      <td>New Car Dealers Association of BC</td>\n",
       "      <td>300.0</td>\n",
       "      <td>2016-04-07 00:00:00</td>\n",
       "      <td>2016-04-07</td>\n",
       "      <td>2770518.44</td>\n",
       "    </tr>\n",
       "    <tr>\n",
       "      <th>11096</th>\n",
       "      <td>New Car Dealers Association of BC</td>\n",
       "      <td>1250.0</td>\n",
       "      <td>2016-04-30 00:00:00</td>\n",
       "      <td>2016-04-30</td>\n",
       "      <td>3541807.44</td>\n",
       "    </tr>\n",
       "    <tr>\n",
       "      <th>11103</th>\n",
       "      <td>New Car Dealers Association of BC</td>\n",
       "      <td>7250.0</td>\n",
       "      <td>2016-05-08 00:00:00</td>\n",
       "      <td>2016-05-08</td>\n",
       "      <td>3570037.44</td>\n",
       "    </tr>\n",
       "    <tr>\n",
       "      <th>11097</th>\n",
       "      <td>New Car Dealers Association of BC</td>\n",
       "      <td>2200.0</td>\n",
       "      <td>2016-05-13 00:00:00</td>\n",
       "      <td>2016-05-13</td>\n",
       "      <td>3869685.44</td>\n",
       "    </tr>\n",
       "    <tr>\n",
       "      <th>11098</th>\n",
       "      <td>New Car Dealers Association of BC</td>\n",
       "      <td>3000.0</td>\n",
       "      <td>2016-05-20 00:00:00</td>\n",
       "      <td>2016-05-20</td>\n",
       "      <td>4234652.78</td>\n",
       "    </tr>\n",
       "    <tr>\n",
       "      <th>11099</th>\n",
       "      <td>New Car Dealers Association of BC</td>\n",
       "      <td>1500.0</td>\n",
       "      <td>2016-05-31 00:00:00</td>\n",
       "      <td>2016-05-31</td>\n",
       "      <td>4520871.45</td>\n",
       "    </tr>\n",
       "    <tr>\n",
       "      <th>11101</th>\n",
       "      <td>New Car Dealers Association of BC</td>\n",
       "      <td>30750.0</td>\n",
       "      <td>2016-06-17 00:00:00</td>\n",
       "      <td>2016-06-17</td>\n",
       "      <td>5058265.78</td>\n",
       "    </tr>\n",
       "    <tr>\n",
       "      <th>11095</th>\n",
       "      <td>New Car Dealers Association of BC</td>\n",
       "      <td>5000.0</td>\n",
       "      <td>2016-08-04 00:00:00</td>\n",
       "      <td>2016-08-04</td>\n",
       "      <td>6026530.38</td>\n",
       "    </tr>\n",
       "    <tr>\n",
       "      <th>11104</th>\n",
       "      <td>New Car Dealers Association of BC</td>\n",
       "      <td>9600.0</td>\n",
       "      <td>2016-09-16 00:00:00</td>\n",
       "      <td>2016-09-16</td>\n",
       "      <td>6504663.55</td>\n",
       "    </tr>\n",
       "    <tr>\n",
       "      <th>11105</th>\n",
       "      <td>New Car Dealers Association of BC</td>\n",
       "      <td>2000.0</td>\n",
       "      <td>2016-09-30 00:00:00</td>\n",
       "      <td>2016-09-30</td>\n",
       "      <td>6914942.35</td>\n",
       "    </tr>\n",
       "    <tr>\n",
       "      <th>11091</th>\n",
       "      <td>New Car Dealers Association of BC</td>\n",
       "      <td>3000.0</td>\n",
       "      <td>2016-12-02 00:00:00</td>\n",
       "      <td>2016-12-02</td>\n",
       "      <td>9265462.66</td>\n",
       "    </tr>\n",
       "    <tr>\n",
       "      <th>11107</th>\n",
       "      <td>New Car Dealers Association of BC</td>\n",
       "      <td>2000.0</td>\n",
       "      <td>2016-12-19 00:00:00</td>\n",
       "      <td>2016-12-19</td>\n",
       "      <td>9802851.36</td>\n",
       "    </tr>\n",
       "    <tr>\n",
       "      <th>Sheet1</th>\n",
       "      <th>718</th>\n",
       "      <td>New Car Dealers Association</td>\n",
       "      <td>250.0</td>\n",
       "      <td>1/20/2017</td>\n",
       "      <td>2017-01-20</td>\n",
       "      <td>10650030.67</td>\n",
       "    </tr>\n",
       "    <tr>\n",
       "      <th>2017-Contributions-—-February-3</th>\n",
       "      <th>378</th>\n",
       "      <td>New Car Dealers Association of BC</td>\n",
       "      <td>3600.0</td>\n",
       "      <td>2017-01-27 00:00:00</td>\n",
       "      <td>2017-01-27</td>\n",
       "      <td>10829148.52</td>\n",
       "    </tr>\n",
       "    <tr>\n",
       "      <th>2017-Contributions-March-3-2017</th>\n",
       "      <th>128</th>\n",
       "      <td>New Car Dealers Association of BC</td>\n",
       "      <td>1200.0</td>\n",
       "      <td>2017-02-10 00:00:00</td>\n",
       "      <td>2017-02-10</td>\n",
       "      <td>11385940.52</td>\n",
       "    </tr>\n",
       "    <tr>\n",
       "      <th>2017-Contributions-March-10</th>\n",
       "      <th>128</th>\n",
       "      <td>New Car Dealers Association of BC</td>\n",
       "      <td>1200.0</td>\n",
       "      <td>2017-02-10 00:00:00</td>\n",
       "      <td>2017-02-10</td>\n",
       "      <td>11241550.52</td>\n",
       "    </tr>\n",
       "    <tr>\n",
       "      <th>2017-Contributions-February-17</th>\n",
       "      <th>128</th>\n",
       "      <td>New Car Dealers Association of BC</td>\n",
       "      <td>1200.0</td>\n",
       "      <td>2017-02-10 00:00:00</td>\n",
       "      <td>2017-02-10</td>\n",
       "      <td>11209280.52</td>\n",
       "    </tr>\n",
       "    <tr>\n",
       "      <th>2017-Contributions-_-February-2</th>\n",
       "      <th>86</th>\n",
       "      <td>New Car Dealers Association of BC</td>\n",
       "      <td>1500.0</td>\n",
       "      <td>2017-02-17 00:00:00</td>\n",
       "      <td>2017-02-17</td>\n",
       "      <td>11405535.52</td>\n",
       "    </tr>\n",
       "    <tr>\n",
       "      <th>2017-Contributions-March-23</th>\n",
       "      <th>95</th>\n",
       "      <td>New Car Dealers Association</td>\n",
       "      <td>1800.0</td>\n",
       "      <td>2017-03-17 00:00:00</td>\n",
       "      <td>2017-03-17</td>\n",
       "      <td>11549973.52</td>\n",
       "    </tr>\n",
       "    <tr>\n",
       "      <th>2017-Contributions-March-31-201</th>\n",
       "      <th>1247</th>\n",
       "      <td>New Car Dealers Association</td>\n",
       "      <td>2000.0</td>\n",
       "      <td>2017-03-24 00:00:00</td>\n",
       "      <td>2017-03-24</td>\n",
       "      <td>11629883.86</td>\n",
       "    </tr>\n",
       "    <tr>\n",
       "      <th rowspan=\"2\" valign=\"top\">2017-Contributions-April-14</th>\n",
       "      <th>503</th>\n",
       "      <td>New Car Dealers Association of BC</td>\n",
       "      <td>7000.0</td>\n",
       "      <td>2017-04-07 00:00:00</td>\n",
       "      <td>2017-04-07</td>\n",
       "      <td>13575120.04</td>\n",
       "    </tr>\n",
       "    <tr>\n",
       "      <th>504</th>\n",
       "      <td>New Car Dealers Association of BC</td>\n",
       "      <td>3700.0</td>\n",
       "      <td>2017-04-08 00:00:00</td>\n",
       "      <td>2017-04-08</td>\n",
       "      <td>13706497.04</td>\n",
       "    </tr>\n",
       "    <tr>\n",
       "      <th>Real-Time-Donations-Jan-25V3</th>\n",
       "      <th>532</th>\n",
       "      <td>New Car Dealers Association of BC</td>\n",
       "      <td>2500.0</td>\n",
       "      <td>2017-05-01 00:00:00</td>\n",
       "      <td>2017-05-01</td>\n",
       "      <td>15299483.67</td>\n",
       "    </tr>\n",
       "    <tr>\n",
       "      <th rowspan=\"2\" valign=\"top\">2017-Contributions-May-12</th>\n",
       "      <th>405</th>\n",
       "      <td>New Car Dealers Association of BC</td>\n",
       "      <td>2000.0</td>\n",
       "      <td>2017-05-08 00:00:00</td>\n",
       "      <td>2017-05-08</td>\n",
       "      <td>16781723.19</td>\n",
       "    </tr>\n",
       "    <tr>\n",
       "      <th>406</th>\n",
       "      <td>New Car Dealers Association of BC</td>\n",
       "      <td>4000.0</td>\n",
       "      <td>2017-05-09 00:00:00</td>\n",
       "      <td>2017-05-09</td>\n",
       "      <td>16805369.19</td>\n",
       "    </tr>\n",
       "    <tr>\n",
       "      <th>2017-Contributions-—-March-17-2</th>\n",
       "      <th>118</th>\n",
       "      <td>New Car Dealers Association</td>\n",
       "      <td>2000.0</td>\n",
       "      <td>2017-10-03 00:00:00</td>\n",
       "      <td>2017-10-03</td>\n",
       "      <td>18253525.98</td>\n",
       "    </tr>\n",
       "  </tbody>\n",
       "</table>\n",
       "</div>"
      ],
      "text/plain": [
       "                                                              Donor Name  \\\n",
       "Copy-of-2016-Contributions-v4   11088  New Car Dealers Association of BC   \n",
       "                                11089  New Car Dealers Association of BC   \n",
       "                                11090  New Car Dealers Association of BC   \n",
       "                                11092  New Car Dealers Association of BC   \n",
       "                                11100  New Car Dealers Association of BC   \n",
       "                                11106  New Car Dealers Association of BC   \n",
       "                                11093  New Car Dealers Association of BC   \n",
       "                                11094  New Car Dealers Association of BC   \n",
       "                                11102  New Car Dealers Association of BC   \n",
       "                                11096  New Car Dealers Association of BC   \n",
       "                                11103  New Car Dealers Association of BC   \n",
       "                                11097  New Car Dealers Association of BC   \n",
       "                                11098  New Car Dealers Association of BC   \n",
       "                                11099  New Car Dealers Association of BC   \n",
       "                                11101  New Car Dealers Association of BC   \n",
       "                                11095  New Car Dealers Association of BC   \n",
       "                                11104  New Car Dealers Association of BC   \n",
       "                                11105  New Car Dealers Association of BC   \n",
       "                                11091  New Car Dealers Association of BC   \n",
       "                                11107  New Car Dealers Association of BC   \n",
       "Sheet1                          718          New Car Dealers Association   \n",
       "2017-Contributions-—-February-3 378    New Car Dealers Association of BC   \n",
       "2017-Contributions-March-3-2017 128    New Car Dealers Association of BC   \n",
       "2017-Contributions-March-10     128    New Car Dealers Association of BC   \n",
       "2017-Contributions-February-17  128    New Car Dealers Association of BC   \n",
       "2017-Contributions-_-February-2 86     New Car Dealers Association of BC   \n",
       "2017-Contributions-March-23     95           New Car Dealers Association   \n",
       "2017-Contributions-March-31-201 1247         New Car Dealers Association   \n",
       "2017-Contributions-April-14     503    New Car Dealers Association of BC   \n",
       "                                504    New Car Dealers Association of BC   \n",
       "Real-Time-Donations-Jan-25V3    532    New Car Dealers Association of BC   \n",
       "2017-Contributions-May-12       405    New Car Dealers Association of BC   \n",
       "                                406    New Car Dealers Association of BC   \n",
       "2017-Contributions-—-March-17-2 118          New Car Dealers Association   \n",
       "\n",
       "                                        Amount                 Date  \\\n",
       "Copy-of-2016-Contributions-v4   11088   6000.0  2016-01-15 00:00:00   \n",
       "                                11089   8500.0  2016-01-22 00:00:00   \n",
       "                                11090    500.0  2016-01-31 00:00:00   \n",
       "                                11092   2000.0  2016-02-29 00:00:00   \n",
       "                                11100   1500.0  2016-03-06 00:00:00   \n",
       "                                11106   8500.0  2016-03-11 00:00:00   \n",
       "                                11093   5000.0  2016-03-24 00:00:00   \n",
       "                                11094  10000.0  2016-03-31 00:00:00   \n",
       "                                11102    300.0  2016-04-07 00:00:00   \n",
       "                                11096   1250.0  2016-04-30 00:00:00   \n",
       "                                11103   7250.0  2016-05-08 00:00:00   \n",
       "                                11097   2200.0  2016-05-13 00:00:00   \n",
       "                                11098   3000.0  2016-05-20 00:00:00   \n",
       "                                11099   1500.0  2016-05-31 00:00:00   \n",
       "                                11101  30750.0  2016-06-17 00:00:00   \n",
       "                                11095   5000.0  2016-08-04 00:00:00   \n",
       "                                11104   9600.0  2016-09-16 00:00:00   \n",
       "                                11105   2000.0  2016-09-30 00:00:00   \n",
       "                                11091   3000.0  2016-12-02 00:00:00   \n",
       "                                11107   2000.0  2016-12-19 00:00:00   \n",
       "Sheet1                          718      250.0            1/20/2017   \n",
       "2017-Contributions-—-February-3 378     3600.0  2017-01-27 00:00:00   \n",
       "2017-Contributions-March-3-2017 128     1200.0  2017-02-10 00:00:00   \n",
       "2017-Contributions-March-10     128     1200.0  2017-02-10 00:00:00   \n",
       "2017-Contributions-February-17  128     1200.0  2017-02-10 00:00:00   \n",
       "2017-Contributions-_-February-2 86      1500.0  2017-02-17 00:00:00   \n",
       "2017-Contributions-March-23     95      1800.0  2017-03-17 00:00:00   \n",
       "2017-Contributions-March-31-201 1247    2000.0  2017-03-24 00:00:00   \n",
       "2017-Contributions-April-14     503     7000.0  2017-04-07 00:00:00   \n",
       "                                504     3700.0  2017-04-08 00:00:00   \n",
       "Real-Time-Donations-Jan-25V3    532     2500.0  2017-05-01 00:00:00   \n",
       "2017-Contributions-May-12       405     2000.0  2017-05-08 00:00:00   \n",
       "                                406     4000.0  2017-05-09 00:00:00   \n",
       "2017-Contributions-—-March-17-2 118     2000.0  2017-10-03 00:00:00   \n",
       "\n",
       "                                        datetime       cumsum  \n",
       "Copy-of-2016-Contributions-v4   11088 2016-01-15    369172.79  \n",
       "                                11089 2016-01-22    385972.79  \n",
       "                                11090 2016-01-31    537942.09  \n",
       "                                11092 2016-02-29   1407770.44  \n",
       "                                11100 2016-03-06   1802089.44  \n",
       "                                11106 2016-03-11   1903709.44  \n",
       "                                11093 2016-03-24   2076775.44  \n",
       "                                11094 2016-03-31   2333821.44  \n",
       "                                11102 2016-04-07   2770518.44  \n",
       "                                11096 2016-04-30   3541807.44  \n",
       "                                11103 2016-05-08   3570037.44  \n",
       "                                11097 2016-05-13   3869685.44  \n",
       "                                11098 2016-05-20   4234652.78  \n",
       "                                11099 2016-05-31   4520871.45  \n",
       "                                11101 2016-06-17   5058265.78  \n",
       "                                11095 2016-08-04   6026530.38  \n",
       "                                11104 2016-09-16   6504663.55  \n",
       "                                11105 2016-09-30   6914942.35  \n",
       "                                11091 2016-12-02   9265462.66  \n",
       "                                11107 2016-12-19   9802851.36  \n",
       "Sheet1                          718   2017-01-20  10650030.67  \n",
       "2017-Contributions-—-February-3 378   2017-01-27  10829148.52  \n",
       "2017-Contributions-March-3-2017 128   2017-02-10  11385940.52  \n",
       "2017-Contributions-March-10     128   2017-02-10  11241550.52  \n",
       "2017-Contributions-February-17  128   2017-02-10  11209280.52  \n",
       "2017-Contributions-_-February-2 86    2017-02-17  11405535.52  \n",
       "2017-Contributions-March-23     95    2017-03-17  11549973.52  \n",
       "2017-Contributions-March-31-201 1247  2017-03-24  11629883.86  \n",
       "2017-Contributions-April-14     503   2017-04-07  13575120.04  \n",
       "                                504   2017-04-08  13706497.04  \n",
       "Real-Time-Donations-Jan-25V3    532   2017-05-01  15299483.67  \n",
       "2017-Contributions-May-12       405   2017-05-08  16781723.19  \n",
       "                                406   2017-05-09  16805369.19  \n",
       "2017-Contributions-—-March-17-2 118   2017-10-03  18253525.98  "
      ]
     },
     "execution_count": 26,
     "metadata": {},
     "output_type": "execute_result"
    }
   ],
   "source": [
    "df_filter('Car Dealers')"
   ]
  },
  {
   "cell_type": "code",
   "execution_count": 27,
   "metadata": {},
   "outputs": [
    {
     "data": {
      "text/html": [
       "<div>\n",
       "<table border=\"1\" class=\"dataframe\">\n",
       "  <thead>\n",
       "    <tr style=\"text-align: right;\">\n",
       "      <th></th>\n",
       "      <th></th>\n",
       "      <th>Donor Name</th>\n",
       "      <th>Amount</th>\n",
       "      <th>Date</th>\n",
       "      <th>datetime</th>\n",
       "      <th>cumsum</th>\n",
       "    </tr>\n",
       "  </thead>\n",
       "  <tbody>\n",
       "    <tr>\n",
       "      <th rowspan=\"8\" valign=\"top\">Copy-of-2016-Contributions-v4</th>\n",
       "      <th>774</th>\n",
       "      <td>Aquilini Investment Group LP</td>\n",
       "      <td>2500.0</td>\n",
       "      <td>2016-01-01 00:00:00</td>\n",
       "      <td>2016-01-01</td>\n",
       "      <td>39775.00</td>\n",
       "    </tr>\n",
       "    <tr>\n",
       "      <th>777</th>\n",
       "      <td>Aquilini Investment Group LP</td>\n",
       "      <td>10000.0</td>\n",
       "      <td>2016-01-04 00:00:00</td>\n",
       "      <td>2016-01-04</td>\n",
       "      <td>169425.00</td>\n",
       "    </tr>\n",
       "    <tr>\n",
       "      <th>775</th>\n",
       "      <td>Aquilini Investment Group LP</td>\n",
       "      <td>2500.0</td>\n",
       "      <td>2016-01-31 00:00:00</td>\n",
       "      <td>2016-01-31</td>\n",
       "      <td>570152.09</td>\n",
       "    </tr>\n",
       "    <tr>\n",
       "      <th>776</th>\n",
       "      <td>Aquilini Investment Group LP</td>\n",
       "      <td>10000.0</td>\n",
       "      <td>2016-02-26 00:00:00</td>\n",
       "      <td>2016-02-26</td>\n",
       "      <td>1030620.44</td>\n",
       "    </tr>\n",
       "    <tr>\n",
       "      <th>778</th>\n",
       "      <td>Aquilini Investment Group LP</td>\n",
       "      <td>25000.0</td>\n",
       "      <td>2016-04-22 00:00:00</td>\n",
       "      <td>2016-04-22</td>\n",
       "      <td>3187278.44</td>\n",
       "    </tr>\n",
       "    <tr>\n",
       "      <th>780</th>\n",
       "      <td>Aquilini Investment Group LP</td>\n",
       "      <td>5000.0</td>\n",
       "      <td>2016-10-30 00:00:00</td>\n",
       "      <td>2016-10-30</td>\n",
       "      <td>7385829.35</td>\n",
       "    </tr>\n",
       "    <tr>\n",
       "      <th>781</th>\n",
       "      <td>Aquilini Investment Group LP</td>\n",
       "      <td>1000.0</td>\n",
       "      <td>2016-10-31 00:00:00</td>\n",
       "      <td>2016-10-31</td>\n",
       "      <td>7729906.60</td>\n",
       "    </tr>\n",
       "    <tr>\n",
       "      <th>779</th>\n",
       "      <td>Aquilini Investment Group LP</td>\n",
       "      <td>75000.0</td>\n",
       "      <td>2016-11-10 00:00:00</td>\n",
       "      <td>2016-11-10</td>\n",
       "      <td>8179950.96</td>\n",
       "    </tr>\n",
       "    <tr>\n",
       "      <th rowspan=\"2\" valign=\"top\">2017-Contributions-—-February-3</th>\n",
       "      <th>25</th>\n",
       "      <td>Aquilini Investment Group</td>\n",
       "      <td>2500.0</td>\n",
       "      <td>2017-01-27 00:00:00</td>\n",
       "      <td>2017-01-27</td>\n",
       "      <td>10869645.52</td>\n",
       "    </tr>\n",
       "    <tr>\n",
       "      <th>26</th>\n",
       "      <td>Aquilini Investments</td>\n",
       "      <td>2500.0</td>\n",
       "      <td>2017-01-27 00:00:00</td>\n",
       "      <td>2017-01-27</td>\n",
       "      <td>10848323.52</td>\n",
       "    </tr>\n",
       "    <tr>\n",
       "      <th>2017-Contributions-March-31-201</th>\n",
       "      <th>86</th>\n",
       "      <td>Aquilini Investment Group LP</td>\n",
       "      <td>2400.0</td>\n",
       "      <td>2017-03-28 00:00:00</td>\n",
       "      <td>2017-03-28</td>\n",
       "      <td>12777556.71</td>\n",
       "    </tr>\n",
       "  </tbody>\n",
       "</table>\n",
       "</div>"
      ],
      "text/plain": [
       "                                                       Donor Name   Amount  \\\n",
       "Copy-of-2016-Contributions-v4   774  Aquilini Investment Group LP   2500.0   \n",
       "                                777  Aquilini Investment Group LP  10000.0   \n",
       "                                775  Aquilini Investment Group LP   2500.0   \n",
       "                                776  Aquilini Investment Group LP  10000.0   \n",
       "                                778  Aquilini Investment Group LP  25000.0   \n",
       "                                780  Aquilini Investment Group LP   5000.0   \n",
       "                                781  Aquilini Investment Group LP   1000.0   \n",
       "                                779  Aquilini Investment Group LP  75000.0   \n",
       "2017-Contributions-—-February-3 25      Aquilini Investment Group   2500.0   \n",
       "                                26           Aquilini Investments   2500.0   \n",
       "2017-Contributions-March-31-201 86   Aquilini Investment Group LP   2400.0   \n",
       "\n",
       "                                                    Date   datetime  \\\n",
       "Copy-of-2016-Contributions-v4   774  2016-01-01 00:00:00 2016-01-01   \n",
       "                                777  2016-01-04 00:00:00 2016-01-04   \n",
       "                                775  2016-01-31 00:00:00 2016-01-31   \n",
       "                                776  2016-02-26 00:00:00 2016-02-26   \n",
       "                                778  2016-04-22 00:00:00 2016-04-22   \n",
       "                                780  2016-10-30 00:00:00 2016-10-30   \n",
       "                                781  2016-10-31 00:00:00 2016-10-31   \n",
       "                                779  2016-11-10 00:00:00 2016-11-10   \n",
       "2017-Contributions-—-February-3 25   2017-01-27 00:00:00 2017-01-27   \n",
       "                                26   2017-01-27 00:00:00 2017-01-27   \n",
       "2017-Contributions-March-31-201 86   2017-03-28 00:00:00 2017-03-28   \n",
       "\n",
       "                                          cumsum  \n",
       "Copy-of-2016-Contributions-v4   774     39775.00  \n",
       "                                777    169425.00  \n",
       "                                775    570152.09  \n",
       "                                776   1030620.44  \n",
       "                                778   3187278.44  \n",
       "                                780   7385829.35  \n",
       "                                781   7729906.60  \n",
       "                                779   8179950.96  \n",
       "2017-Contributions-—-February-3 25   10869645.52  \n",
       "                                26   10848323.52  \n",
       "2017-Contributions-March-31-201 86   12777556.71  "
      ]
     },
     "execution_count": 27,
     "metadata": {},
     "output_type": "execute_result"
    }
   ],
   "source": [
    "df_filter('Aquilini')"
   ]
  },
  {
   "cell_type": "code",
   "execution_count": 28,
   "metadata": {},
   "outputs": [
    {
     "data": {
      "text/html": [
       "<div>\n",
       "<table border=\"1\" class=\"dataframe\">\n",
       "  <thead>\n",
       "    <tr style=\"text-align: right;\">\n",
       "      <th></th>\n",
       "      <th></th>\n",
       "      <th>Donor Name</th>\n",
       "      <th>Amount</th>\n",
       "      <th>Date</th>\n",
       "      <th>datetime</th>\n",
       "      <th>cumsum</th>\n",
       "    </tr>\n",
       "  </thead>\n",
       "  <tbody>\n",
       "    <tr>\n",
       "      <th rowspan=\"4\" valign=\"top\">Copy-of-2016-Contributions-v4</th>\n",
       "      <th>12819</th>\n",
       "      <td>Robert Lee</td>\n",
       "      <td>1150.0</td>\n",
       "      <td>2016-02-26 00:00:00</td>\n",
       "      <td>2016-02-26</td>\n",
       "      <td>1237240.44</td>\n",
       "    </tr>\n",
       "    <tr>\n",
       "      <th>12820</th>\n",
       "      <td>Robert Lee Ltd</td>\n",
       "      <td>1000.0</td>\n",
       "      <td>2016-02-26 00:00:00</td>\n",
       "      <td>2016-02-26</td>\n",
       "      <td>1195290.44</td>\n",
       "    </tr>\n",
       "    <tr>\n",
       "      <th>12821</th>\n",
       "      <td>Robert Lee Ltd</td>\n",
       "      <td>1000.0</td>\n",
       "      <td>2016-06-05 00:00:00</td>\n",
       "      <td>2016-06-05</td>\n",
       "      <td>4798212.45</td>\n",
       "    </tr>\n",
       "    <tr>\n",
       "      <th>12822</th>\n",
       "      <td>Robert Lee Ltd</td>\n",
       "      <td>1500.0</td>\n",
       "      <td>2016-11-28 00:00:00</td>\n",
       "      <td>2016-11-28</td>\n",
       "      <td>8675241.69</td>\n",
       "    </tr>\n",
       "    <tr>\n",
       "      <th>2017-Contributions-May-5</th>\n",
       "      <th>905</th>\n",
       "      <td>Robert Lee Ltd</td>\n",
       "      <td>2000.0</td>\n",
       "      <td>2017-04-29 00:00:00</td>\n",
       "      <td>2017-04-29</td>\n",
       "      <td>15159249.56</td>\n",
       "    </tr>\n",
       "    <tr>\n",
       "      <th>2017-Contributions-May-12</th>\n",
       "      <th>493</th>\n",
       "      <td>Robert Lee</td>\n",
       "      <td>40000.0</td>\n",
       "      <td>2017-05-06 00:00:00</td>\n",
       "      <td>2017-05-06</td>\n",
       "      <td>16657423.19</td>\n",
       "    </tr>\n",
       "  </tbody>\n",
       "</table>\n",
       "</div>"
      ],
      "text/plain": [
       "                                         Donor Name   Amount  \\\n",
       "Copy-of-2016-Contributions-v4 12819      Robert Lee   1150.0   \n",
       "                              12820  Robert Lee Ltd   1000.0   \n",
       "                              12821  Robert Lee Ltd   1000.0   \n",
       "                              12822  Robert Lee Ltd   1500.0   \n",
       "2017-Contributions-May-5      905    Robert Lee Ltd   2000.0   \n",
       "2017-Contributions-May-12     493        Robert Lee  40000.0   \n",
       "\n",
       "                                                    Date   datetime  \\\n",
       "Copy-of-2016-Contributions-v4 12819  2016-02-26 00:00:00 2016-02-26   \n",
       "                              12820  2016-02-26 00:00:00 2016-02-26   \n",
       "                              12821  2016-06-05 00:00:00 2016-06-05   \n",
       "                              12822  2016-11-28 00:00:00 2016-11-28   \n",
       "2017-Contributions-May-5      905    2017-04-29 00:00:00 2017-04-29   \n",
       "2017-Contributions-May-12     493    2017-05-06 00:00:00 2017-05-06   \n",
       "\n",
       "                                          cumsum  \n",
       "Copy-of-2016-Contributions-v4 12819   1237240.44  \n",
       "                              12820   1195290.44  \n",
       "                              12821   4798212.45  \n",
       "                              12822   8675241.69  \n",
       "2017-Contributions-May-5      905    15159249.56  \n",
       "2017-Contributions-May-12     493    16657423.19  "
      ]
     },
     "execution_count": 28,
     "metadata": {},
     "output_type": "execute_result"
    }
   ],
   "source": [
    "df_filter('Robert Lee')"
   ]
  },
  {
   "cell_type": "code",
   "execution_count": 29,
   "metadata": {
    "scrolled": true
   },
   "outputs": [
    {
     "data": {
      "text/html": [
       "<div>\n",
       "<table border=\"1\" class=\"dataframe\">\n",
       "  <thead>\n",
       "    <tr style=\"text-align: right;\">\n",
       "      <th></th>\n",
       "      <th></th>\n",
       "      <th>Donor Name</th>\n",
       "      <th>Amount</th>\n",
       "      <th>Date</th>\n",
       "      <th>datetime</th>\n",
       "      <th>cumsum</th>\n",
       "    </tr>\n",
       "  </thead>\n",
       "  <tbody>\n",
       "    <tr>\n",
       "      <th rowspan=\"6\" valign=\"top\">Copy-of-2016-Contributions-v4</th>\n",
       "      <th>12784</th>\n",
       "      <td>Robert J Macdonald</td>\n",
       "      <td>500.0</td>\n",
       "      <td>2016-01-31 00:00:00</td>\n",
       "      <td>2016-01-31</td>\n",
       "      <td>525488.09</td>\n",
       "    </tr>\n",
       "    <tr>\n",
       "      <th>12789</th>\n",
       "      <td>Robert J Macdonald</td>\n",
       "      <td>1000.0</td>\n",
       "      <td>2016-03-11 00:00:00</td>\n",
       "      <td>2016-03-11</td>\n",
       "      <td>1865204.44</td>\n",
       "    </tr>\n",
       "    <tr>\n",
       "      <th>12788</th>\n",
       "      <td>Robert J Macdonald</td>\n",
       "      <td>500.0</td>\n",
       "      <td>2016-05-08 00:00:00</td>\n",
       "      <td>2016-05-08</td>\n",
       "      <td>3578612.44</td>\n",
       "    </tr>\n",
       "    <tr>\n",
       "      <th>12786</th>\n",
       "      <td>Robert J Macdonald</td>\n",
       "      <td>10000.0</td>\n",
       "      <td>2016-05-27 00:00:00</td>\n",
       "      <td>2016-05-27</td>\n",
       "      <td>4355955.11</td>\n",
       "    </tr>\n",
       "    <tr>\n",
       "      <th>12787</th>\n",
       "      <td>Robert J Macdonald</td>\n",
       "      <td>1000.0</td>\n",
       "      <td>2016-06-28 00:00:00</td>\n",
       "      <td>2016-06-28</td>\n",
       "      <td>5310324.52</td>\n",
       "    </tr>\n",
       "    <tr>\n",
       "      <th>12785</th>\n",
       "      <td>Robert J Macdonald</td>\n",
       "      <td>10000.0</td>\n",
       "      <td>2016-11-03 00:00:00</td>\n",
       "      <td>2016-11-03</td>\n",
       "      <td>8064379.96</td>\n",
       "    </tr>\n",
       "    <tr>\n",
       "      <th>2017-Contributions-March-31-201</th>\n",
       "      <th>1453</th>\n",
       "      <td>Robert J Macdonald</td>\n",
       "      <td>3000.0</td>\n",
       "      <td>2017-03-28 00:00:00</td>\n",
       "      <td>2017-03-28</td>\n",
       "      <td>12721036.71</td>\n",
       "    </tr>\n",
       "    <tr>\n",
       "      <th>Real-Time-Donations-Jan-25V3</th>\n",
       "      <th>426</th>\n",
       "      <td>Robert J Macdonald</td>\n",
       "      <td>1000.0</td>\n",
       "      <td>2017-04-01 00:00:00</td>\n",
       "      <td>2017-04-01</td>\n",
       "      <td>13225875.04</td>\n",
       "    </tr>\n",
       "  </tbody>\n",
       "</table>\n",
       "</div>"
      ],
      "text/plain": [
       "                                               Donor Name   Amount  \\\n",
       "Copy-of-2016-Contributions-v4   12784  Robert J Macdonald    500.0   \n",
       "                                12789  Robert J Macdonald   1000.0   \n",
       "                                12788  Robert J Macdonald    500.0   \n",
       "                                12786  Robert J Macdonald  10000.0   \n",
       "                                12787  Robert J Macdonald   1000.0   \n",
       "                                12785  Robert J Macdonald  10000.0   \n",
       "2017-Contributions-March-31-201 1453   Robert J Macdonald   3000.0   \n",
       "Real-Time-Donations-Jan-25V3    426    Robert J Macdonald   1000.0   \n",
       "\n",
       "                                                      Date   datetime  \\\n",
       "Copy-of-2016-Contributions-v4   12784  2016-01-31 00:00:00 2016-01-31   \n",
       "                                12789  2016-03-11 00:00:00 2016-03-11   \n",
       "                                12788  2016-05-08 00:00:00 2016-05-08   \n",
       "                                12786  2016-05-27 00:00:00 2016-05-27   \n",
       "                                12787  2016-06-28 00:00:00 2016-06-28   \n",
       "                                12785  2016-11-03 00:00:00 2016-11-03   \n",
       "2017-Contributions-March-31-201 1453   2017-03-28 00:00:00 2017-03-28   \n",
       "Real-Time-Donations-Jan-25V3    426    2017-04-01 00:00:00 2017-04-01   \n",
       "\n",
       "                                            cumsum  \n",
       "Copy-of-2016-Contributions-v4   12784    525488.09  \n",
       "                                12789   1865204.44  \n",
       "                                12788   3578612.44  \n",
       "                                12786   4355955.11  \n",
       "                                12787   5310324.52  \n",
       "                                12785   8064379.96  \n",
       "2017-Contributions-March-31-201 1453   12721036.71  \n",
       "Real-Time-Donations-Jan-25V3    426    13225875.04  "
      ]
     },
     "execution_count": 29,
     "metadata": {},
     "output_type": "execute_result"
    }
   ],
   "source": [
    "df_filter('Robert J Macdonald')"
   ]
  },
  {
   "cell_type": "markdown",
   "metadata": {},
   "source": [
    "## Accumulate donations across 'Donor Name' "
   ]
  },
  {
   "cell_type": "code",
   "execution_count": 30,
   "metadata": {},
   "outputs": [
    {
     "data": {
      "text/plain": [
       "<matplotlib.axes._subplots.AxesSubplot at 0x7f9ca6cef828>"
      ]
     },
     "execution_count": 30,
     "metadata": {},
     "output_type": "execute_result"
    },
    {
     "data": {
      "image/png": "[encoded data removed]",
      "text/plain": [
       "<matplotlib.figure.Figure at 0x7f9ca6cc2898>"
      ]
     },
     "metadata": {},
     "output_type": "display_data"
    }
   ],
   "source": [
    "pd.pivot_table(df,index=['Donor Name'], \n",
    "               aggfunc = sum, values = ['Amount']).sort_values(by=['Amount'], \n",
    "                                                               ascending=[False]).head(n=30).plot(kind='bar')"
   ]
  },
  {
   "cell_type": "code",
   "execution_count": 31,
   "metadata": {},
   "outputs": [
    {
     "data": {
      "text/html": [
       "<div>\n",
       "<table border=\"1\" class=\"dataframe\">\n",
       "  <thead>\n",
       "    <tr style=\"text-align: right;\">\n",
       "      <th></th>\n",
       "      <th>Amount</th>\n",
       "    </tr>\n",
       "    <tr>\n",
       "      <th>Donor Name</th>\n",
       "      <th></th>\n",
       "    </tr>\n",
       "  </thead>\n",
       "  <tbody>\n",
       "    <tr>\n",
       "      <th>Independent Contractors &amp; Businesses Association of BC</th>\n",
       "      <td>174700.00</td>\n",
       "    </tr>\n",
       "    <tr>\n",
       "      <th>New Car Dealers Association of BC</th>\n",
       "      <td>137750.00</td>\n",
       "    </tr>\n",
       "    <tr>\n",
       "      <th>Aquilini Investment Group LP</th>\n",
       "      <td>133400.00</td>\n",
       "    </tr>\n",
       "    <tr>\n",
       "      <th>Progressive Waste Solutions Canada Inc</th>\n",
       "      <td>123700.00</td>\n",
       "    </tr>\n",
       "    <tr>\n",
       "      <th>Wesgroup Properties Ltd</th>\n",
       "      <td>121750.00</td>\n",
       "    </tr>\n",
       "    <tr>\n",
       "      <th>Encana Corporation Ltd</th>\n",
       "      <td>121200.00</td>\n",
       "    </tr>\n",
       "    <tr>\n",
       "      <th>West Fraser Mills Ltd</th>\n",
       "      <td>114300.00</td>\n",
       "    </tr>\n",
       "    <tr>\n",
       "      <th>Gateway Casinos and Entertainment Limited</th>\n",
       "      <td>105738.74</td>\n",
       "    </tr>\n",
       "    <tr>\n",
       "      <th>Interfor Corporation</th>\n",
       "      <td>97050.00</td>\n",
       "    </tr>\n",
       "    <tr>\n",
       "      <th>Sandman Hotels, Inns &amp; Suites Ltd</th>\n",
       "      <td>95000.00</td>\n",
       "    </tr>\n",
       "    <tr>\n",
       "      <th>Canadian Forest Products Ltd</th>\n",
       "      <td>90650.00</td>\n",
       "    </tr>\n",
       "    <tr>\n",
       "      <th>LifeLabs Inc</th>\n",
       "      <td>85955.00</td>\n",
       "    </tr>\n",
       "    <tr>\n",
       "      <th>Anthem Properties Group Ltd.</th>\n",
       "      <td>84000.00</td>\n",
       "    </tr>\n",
       "    <tr>\n",
       "      <th>Fasken Martineau DuMoulin LLP</th>\n",
       "      <td>83025.00</td>\n",
       "    </tr>\n",
       "    <tr>\n",
       "      <th>Polygon Homes Ltd</th>\n",
       "      <td>77000.00</td>\n",
       "    </tr>\n",
       "    <tr>\n",
       "      <th>Starline Windows (2001) Ltd.</th>\n",
       "      <td>75000.00</td>\n",
       "    </tr>\n",
       "    <tr>\n",
       "      <th>Wesbild Holdings Ltd</th>\n",
       "      <td>72500.00</td>\n",
       "    </tr>\n",
       "    <tr>\n",
       "      <th>Shato Holdings Ltd.</th>\n",
       "      <td>70200.00</td>\n",
       "    </tr>\n",
       "    <tr>\n",
       "      <th>Anthem Properties Corp Ltd</th>\n",
       "      <td>68200.00</td>\n",
       "    </tr>\n",
       "    <tr>\n",
       "      <th>Tolko Industries Ltd</th>\n",
       "      <td>67850.00</td>\n",
       "    </tr>\n",
       "    <tr>\n",
       "      <th>Woodfibre LNG Ltd.</th>\n",
       "      <td>67500.00</td>\n",
       "    </tr>\n",
       "    <tr>\n",
       "      <th>Great Canadian Gaming Corp.</th>\n",
       "      <td>65370.00</td>\n",
       "    </tr>\n",
       "    <tr>\n",
       "      <th>The Pacific Investment Corporation Ltd.</th>\n",
       "      <td>65000.00</td>\n",
       "    </tr>\n",
       "    <tr>\n",
       "      <th>Burnco Rock Products Ltd.</th>\n",
       "      <td>64000.00</td>\n",
       "    </tr>\n",
       "    <tr>\n",
       "      <th>Western Forest Products Inc.</th>\n",
       "      <td>63300.00</td>\n",
       "    </tr>\n",
       "  </tbody>\n",
       "</table>\n",
       "</div>"
      ],
      "text/plain": [
       "                                                       Amount\n",
       "Donor Name                                                   \n",
       "Independent Contractors & Businesses Associatio...  174700.00\n",
       "New Car Dealers Association of BC                   137750.00\n",
       "Aquilini Investment Group LP                        133400.00\n",
       "Progressive Waste Solutions Canada Inc              123700.00\n",
       "Wesgroup Properties Ltd                             121750.00\n",
       "Encana Corporation Ltd                              121200.00\n",
       "West Fraser Mills Ltd                               114300.00\n",
       "Gateway Casinos and Entertainment Limited           105738.74\n",
       "Interfor Corporation                                 97050.00\n",
       "Sandman Hotels, Inns & Suites Ltd                    95000.00\n",
       "Canadian Forest Products Ltd                         90650.00\n",
       "LifeLabs Inc                                         85955.00\n",
       "Anthem Properties Group Ltd.                         84000.00\n",
       "Fasken Martineau DuMoulin LLP                        83025.00\n",
       "Polygon Homes Ltd                                    77000.00\n",
       "Starline Windows (2001) Ltd.                         75000.00\n",
       "Wesbild Holdings Ltd                                 72500.00\n",
       "Shato Holdings Ltd.                                  70200.00\n",
       "Anthem Properties Corp Ltd                           68200.00\n",
       "Tolko Industries Ltd                                 67850.00\n",
       "Woodfibre LNG Ltd.                                   67500.00\n",
       "Great Canadian Gaming Corp.                          65370.00\n",
       "The Pacific Investment Corporation Ltd.              65000.00\n",
       "Burnco Rock Products Ltd.                            64000.00\n",
       "Western Forest Products Inc.                         63300.00"
      ]
     },
     "execution_count": 31,
     "metadata": {},
     "output_type": "execute_result"
    }
   ],
   "source": [
    "## Top 25 Donors \n",
    "pd.pivot_table(df,index=['Donor Name'], \n",
    "               aggfunc = sum, values = ['Amount']).sort_values(by=['Amount'], ascending=[False]).head(n=25)"
   ]
  },
  {
   "cell_type": "code",
   "execution_count": 32,
   "metadata": {},
   "outputs": [
    {
     "data": {
      "text/plain": [
       "4997161.4699999997"
      ]
     },
     "execution_count": 32,
     "metadata": {},
     "output_type": "execute_result"
    }
   ],
   "source": [
    "## Donation yield from top 100 donors\n",
    "pd.pivot_table(df,index=['Donor Name'], \n",
    "               aggfunc = sum, values = ['Amount']).sort_values(by=['Amount'], ascending=[False]).head(n=100)['Amount'].sum()"
   ]
  },
  {
   "cell_type": "code",
   "execution_count": 33,
   "metadata": {},
   "outputs": [
    {
     "data": {
      "text/plain": [
       "0.27230163602892815"
      ]
     },
     "execution_count": 33,
     "metadata": {},
     "output_type": "execute_result"
    }
   ],
   "source": [
    "## Fraction of total donations from top 100 donors\n",
    "pd.pivot_table(df,index=['Donor Name'], \n",
    "               aggfunc = sum, \n",
    "               values = ['Amount']).sort_values(by=['Amount'], ascending=[False]).head(n=100)['Amount'].sum()/df['Amount'].sum()"
   ]
  },
  {
   "cell_type": "code",
   "execution_count": 34,
   "metadata": {},
   "outputs": [
    {
     "data": {
      "text/plain": [
       "15130"
      ]
     },
     "execution_count": 34,
     "metadata": {},
     "output_type": "execute_result"
    }
   ],
   "source": [
    "len(df['Donor Name'].unique())"
   ]
  },
  {
   "cell_type": "markdown",
   "metadata": {},
   "source": [
    "## Donation Amount by Day"
   ]
  },
  {
   "cell_type": "code",
   "execution_count": 35,
   "metadata": {},
   "outputs": [
    {
     "data": {
      "text/plain": [
       "<matplotlib.axes._subplots.AxesSubplot at 0x7f9ca6e87128>"
      ]
     },
     "execution_count": 35,
     "metadata": {},
     "output_type": "execute_result"
    },
    {
     "data": {
      "image/png": "[encoded data removed]",
      "text/plain": [
       "<matplotlib.figure.Figure at 0x7f9ca6e8e8d0>"
      ]
     },
     "metadata": {},
     "output_type": "display_data"
    }
   ],
   "source": [
    "pd.pivot_table(df,index=['datetime'], \n",
    "               aggfunc = sum, values = ['Amount']).sort_values(by=['Amount'], \n",
    "                                                               ascending=[False]).head(n=30).plot(kind='bar')"
   ]
  },
  {
   "cell_type": "code",
   "execution_count": 36,
   "metadata": {},
   "outputs": [
    {
     "data": {
      "text/html": [
       "<div>\n",
       "<table border=\"1\" class=\"dataframe\">\n",
       "  <thead>\n",
       "    <tr style=\"text-align: right;\">\n",
       "      <th></th>\n",
       "      <th>Amount</th>\n",
       "    </tr>\n",
       "    <tr>\n",
       "      <th>datetime</th>\n",
       "      <th></th>\n",
       "    </tr>\n",
       "  </thead>\n",
       "  <tbody>\n",
       "    <tr>\n",
       "      <th>2017-03-25</th>\n",
       "      <td>938817.34</td>\n",
       "    </tr>\n",
       "    <tr>\n",
       "      <th>2017-05-12</th>\n",
       "      <td>814751.50</td>\n",
       "    </tr>\n",
       "    <tr>\n",
       "      <th>2016-02-26</th>\n",
       "      <td>548565.00</td>\n",
       "    </tr>\n",
       "    <tr>\n",
       "      <th>2017-05-05</th>\n",
       "      <td>546109.52</td>\n",
       "    </tr>\n",
       "  </tbody>\n",
       "</table>\n",
       "</div>"
      ],
      "text/plain": [
       "               Amount\n",
       "datetime             \n",
       "2017-03-25  938817.34\n",
       "2017-05-12  814751.50\n",
       "2016-02-26  548565.00\n",
       "2017-05-05  546109.52"
      ]
     },
     "execution_count": 36,
     "metadata": {},
     "output_type": "execute_result"
    }
   ],
   "source": [
    "pd.pivot_table(df,index=['datetime'], \n",
    "               aggfunc = sum, values = ['Amount']).sort_values(by=['Amount'], \n",
    "                                                               ascending=[False]).head(n=4)"
   ]
  },
  {
   "cell_type": "markdown",
   "metadata": {},
   "source": [
    "The BC Liberal Party received $939K in donations on 2017-03-25."
   ]
  }
 ],
 "metadata": {
  "kernelspec": {
   "display_name": "Python 3",
   "language": "python",
   "name": "python3"
  },
  "language_info": {
   "codemirror_mode": {
    "name": "ipython",
    "version": 3
   },
   "file_extension": ".py",
   "mimetype": "text/x-python",
   "name": "python",
   "nbconvert_exporter": "python",
   "pygments_lexer": "ipython3",
   "version": "3.5.2"
  }
 },
 "nbformat": 4,
 "nbformat_minor": 2
}
